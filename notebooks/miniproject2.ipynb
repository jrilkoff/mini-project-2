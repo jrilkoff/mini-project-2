{
 "cells": [
  {
   "cell_type": "markdown",
   "metadata": {},
   "source": [
    "## Create API calls from two different sources - Foursquare, Yelp, (Google - stretch) for your Places of Interest (POI)"
   ]
  },
  {
   "cell_type": "markdown",
   "metadata": {},
   "source": [
    "### 1. Libraries imported for API calls"
   ]
  },
  {
   "cell_type": "code",
   "execution_count": 1,
   "metadata": {},
   "outputs": [],
   "source": [
    "# import modules required\n",
    "\n",
    "import pandas as pd\n",
    "import os\n",
    "import json\n",
    "from pandas.io.json import json_normalize\n",
    "import requests\n",
    "import urllib\n",
    "\n",
    "from urllib.error import HTTPError\n",
    "from urllib.parse import quote\n",
    "from urllib.parse import urlencode"
   ]
  },
  {
   "cell_type": "markdown",
   "metadata": {},
   "source": [
    "### 2. Foursqare API Call"
   ]
  },
  {
   "cell_type": "markdown",
   "metadata": {},
   "source": [
    "##### Functions for API calls and parameter inputs"
   ]
  },
  {
   "cell_type": "code",
   "execution_count": 2,
   "metadata": {},
   "outputs": [],
   "source": [
    "# lat/long for downtown Kamloops\n",
    "# radius set to 1,000 meters (1km) to align with the maximum in Yelp\n",
    "\n",
    "latitude = '50.67456895939129'\n",
    "longitude =  '-120.32748594917784'\n",
    "restaurant_categories = '&categories=13000'\n",
    "outdoors_categories = '&categories=16000'\n",
    "location_name = 'query=Kamloops'\n",
    "\n",
    "location = 'll='+latitude+'%2C'+longitude\n",
    "\n",
    "def fsq_response_call(location, category):\n",
    "    \"\"\"Given your API_KEY, send a GET request to the API.\n",
    "    Args:\n",
    "        location (str): combined string of latitude and longitude of location (Kamloops currently).\n",
    "        category (str): ID of category to be used for API call, 5 digit integer\n",
    "    Output:\n",
    "        status_code: printed to display status of API call (200 = success)\n",
    "    Returns:\n",
    "        dict: The JSON response from the request.\n",
    "    \"\"\"\n",
    "\n",
    "    limit = '&limit=50'\n",
    "    radius = '&radius=1000'\n",
    "    rating = '&fields=rating%2Cname%2Cdistance%2Clocation%2Ccategories%2Cstats'\n",
    "\n",
    "    append = location+category+limit+radius+rating\n",
    "    url = \"https://api.foursquare.com/v3/places/search?\"+append\n",
    "    headers = {\"accept\": \"application/json\",\n",
    "                \"Authorization\": os.environ[\"fsqr_api_key\"]}\n",
    "    response = requests.get(url, headers=headers)\n",
    "    print(response.status_code)\n",
    "    return response.json()"
   ]
  },
  {
   "cell_type": "code",
   "execution_count": 3,
   "metadata": {},
   "outputs": [
    {
     "name": "stdout",
     "output_type": "stream",
     "text": [
      "200\n",
      "200\n"
     ]
    }
   ],
   "source": [
    "# API calls for restaurants and outdoor items\n",
    "\n",
    "fsq_pd_rsts = fsq_response_call(location,restaurant_categories)\n",
    "fsq_pd_outd = fsq_response_call(location,outdoors_categories)"
   ]
  },
  {
   "cell_type": "markdown",
   "metadata": {},
   "source": [
    "#### Functions for parsing and handling API calls"
   ]
  },
  {
   "cell_type": "code",
   "execution_count": 4,
   "metadata": {},
   "outputs": [],
   "source": [
    "# running API calls to put into payload variables for alteration, do not need to run API calls constantly with this method\n",
    "# normalizes the payload into a dataframe, uses a lambda function to pull out the category id, then drops the category column\n",
    "# final result is clean data with a category_id foreign key\n",
    "# consolidates data into one table\n",
    "\n",
    "fsq_field_filters = ['categories', 'location.address', 'location.country', 'location.formatted_address', \\\n",
    "'location.locality', 'location.neighborhood', 'location.postcode', 'location.region', \\\n",
    "'location.cross_street', 'location.address_extended', 'stats.total_photos', 'stats.total_ratings', 'stats.total_tips']\n",
    "\n",
    "fsq_field_filters2 = ['categories', 'location.address', 'location.country', 'location.formatted_address', \\\n",
    "'location.locality', 'location.neighborhood', 'location.postcode', 'location.region', \\\n",
    "'location.cross_street', 'location.address_extended']\n",
    "\n",
    "def fsq_payload_parser(api_payload, fields_to_remove):\n",
    "    \"\"\"Takes inputs from payload_categories for processing and final parsing\n",
    "    Args:\n",
    "        api_payload (dict): JSON format API call document\n",
    "        fields_to_remove (list): List with all of the fields to be removed from the JSON DataFrame\n",
    "    Returns:\n",
    "        category_list (DataFrame): Category listing of all POI captured in API call, only type listed\n",
    "        clean_payload (DataFrame): Cleaned API DataFrame with values to go into SQL DB\n",
    "    \"\"\"\n",
    "    \n",
    "    api_filter = list(api_payload.keys())[0]\n",
    "    json_payload = pd.json_normalize(api_payload[api_filter])\n",
    "    cat_filter = list(json_payload)[0]\n",
    "\n",
    "    category_list = pd.json_normalize(api_payload[api_filter], record_path=cat_filter)\n",
    "\n",
    "    json_payload['category_id'] = json_payload['categories'].apply(lambda x: x[0]['id'])\n",
    "    if api_payload == fsq_pd_rsts:\n",
    "        json_payload['total_ratings'] = json_payload['stats.total_ratings']\n",
    "    clean_payload = json_payload.drop(fields_to_remove, axis=1)    \n",
    "    return clean_payload, category_list\n",
    "\n",
    "    \n",
    "    "
   ]
  },
  {
   "cell_type": "code",
   "execution_count": 5,
   "metadata": {},
   "outputs": [],
   "source": [
    "# function calls and data consolidation into one table\n",
    "\n",
    "fsq_rests, fsq_rest_locs = fsq_payload_parser(fsq_pd_rsts, fsq_field_filters)\n",
    "fsq_outdr, fsq_outd_locs = fsq_payload_parser(fsq_pd_outd, fsq_field_filters2)\n",
    "\n",
    "fsq_cats = pd.concat([fsq_rest_locs, fsq_outd_locs], ignore_index=True).drop_duplicates()\n",
    "fsq_locations = pd.concat([fsq_rests, fsq_outdr], ignore_index=True)\n",
    "\n",
    "fsq_cats = fsq_cats.drop(['icon.suffix', 'icon.prefix'],axis=1)\n",
    "\n"
   ]
  },
  {
   "cell_type": "code",
   "execution_count": 6,
   "metadata": {},
   "outputs": [
    {
     "data": {
      "text/html": [
       "<div>\n",
       "<style scoped>\n",
       "    .dataframe tbody tr th:only-of-type {\n",
       "        vertical-align: middle;\n",
       "    }\n",
       "\n",
       "    .dataframe tbody tr th {\n",
       "        vertical-align: top;\n",
       "    }\n",
       "\n",
       "    .dataframe thead th {\n",
       "        text-align: right;\n",
       "    }\n",
       "</style>\n",
       "<table border=\"1\" class=\"dataframe\">\n",
       "  <thead>\n",
       "    <tr style=\"text-align: right;\">\n",
       "      <th></th>\n",
       "      <th>id</th>\n",
       "      <th>name</th>\n",
       "    </tr>\n",
       "  </thead>\n",
       "  <tbody>\n",
       "    <tr>\n",
       "      <th>0</th>\n",
       "      <td>13065</td>\n",
       "      <td>Restaurant</td>\n",
       "    </tr>\n",
       "    <tr>\n",
       "      <th>1</th>\n",
       "      <td>13003</td>\n",
       "      <td>Bar</td>\n",
       "    </tr>\n",
       "    <tr>\n",
       "      <th>2</th>\n",
       "      <td>13029</td>\n",
       "      <td>Brewery</td>\n",
       "    </tr>\n",
       "    <tr>\n",
       "      <th>6</th>\n",
       "      <td>13027</td>\n",
       "      <td>Bistro</td>\n",
       "    </tr>\n",
       "    <tr>\n",
       "      <th>8</th>\n",
       "      <td>13199</td>\n",
       "      <td>Indian Restaurant</td>\n",
       "    </tr>\n",
       "  </tbody>\n",
       "</table>\n",
       "</div>"
      ],
      "text/plain": [
       "      id               name\n",
       "0  13065         Restaurant\n",
       "1  13003                Bar\n",
       "2  13029            Brewery\n",
       "6  13027             Bistro\n",
       "8  13199  Indian Restaurant"
      ]
     },
     "execution_count": 6,
     "metadata": {},
     "output_type": "execute_result"
    }
   ],
   "source": [
    "fsq_locations.head()\n",
    "fsq_cats.head()"
   ]
  },
  {
   "cell_type": "markdown",
   "metadata": {},
   "source": [
    "### 3. Yelp API Call"
   ]
  },
  {
   "cell_type": "markdown",
   "metadata": {},
   "source": [
    "#### Functions for API calls and parameter inputs"
   ]
  },
  {
   "cell_type": "code",
   "execution_count": 7,
   "metadata": {},
   "outputs": [],
   "source": [
    "# variables for Yelp API calls\n",
    "# yelp filters on search results are not organized in any reasonable matter\n",
    "\n",
    "# location metrics used for API call\n",
    "# latitude = '50.67456895939129'\n",
    "# longitude =  '-120.32748594917784'\n",
    "location_name = 'Kamloops, BC'\n",
    "\n",
    "# search term adjustments, different functions use these two variables\n",
    "search_term_rest = 'restaurants'\n",
    "search_term_outdoors = 'outdoors'\n",
    "\n",
    "# API call parameters\n",
    "yelp_api_host = 'https://api.yelp.com'\n",
    "yelp_search_path = '/v3/businesses/search'\n",
    "yelp_api_key = os.environ['yelp_api_key']\n",
    "yelp_client_ID = os.environ['yelp_client_ID']\n",
    "yelp_bearer = 'Bearer_API_KEY'\n",
    "yelp_search_limit = 50\n"
   ]
  },
  {
   "cell_type": "code",
   "execution_count": 8,
   "metadata": {},
   "outputs": [],
   "source": [
    "# Yelp Business search does not return any businesses without reviews\n",
    "# defining Yelp API call, credit given to yelp-fusion public Git\n",
    "\n",
    "def yelp_request_call(host, path, api_key, url_params=None):\n",
    "    \"\"\"Given your API_KEY, send a GET request to the API.\n",
    "    Args:\n",
    "        host (str): The domain host of the API.\n",
    "        path (str): The path of the API after the domain.\n",
    "        API_KEY (str): Your API Key.\n",
    "        url_params (dict): An optional set of query parameters in the request.\n",
    "    Returns:\n",
    "        dict: The JSON response from the request.\n",
    "    Raises:\n",
    "        HTTPError: An error occurs from the HTTP request.\n",
    "    \"\"\"\n",
    "\n",
    "    url_params = url_params or {}\n",
    "    url = '{0}{1}'.format(host, quote(path.encode('utf8')))\n",
    "    headers = {\n",
    "        'Authorization': 'Bearer %s' % api_key,\n",
    "    }\n",
    "\n",
    "    print(u'Querying {0} ...'.format(url))\n",
    "    response = requests.request('GET', url, headers=headers, params=url_params)\n",
    "    print(response.status_code)\n",
    "    return response.json()"
   ]
  },
  {
   "cell_type": "code",
   "execution_count": 9,
   "metadata": {},
   "outputs": [],
   "source": [
    "# defining Yelp search which returns the API call function\n",
    "# credit given to yelp-fusion public Git\n",
    "\n",
    "def yelp_search(api_key, term, location):\n",
    "    \"\"\"Query the Search API by a search term and location.\n",
    "    Args:\n",
    "        term (str): The search term passed to the API.\n",
    "        location (str): The search location passed to the API.\n",
    "    Returns:\n",
    "        dict: The JSON response from the request.\n",
    "    \"\"\"\n",
    "\n",
    "    url_params = {\n",
    "        'term': term.replace(' ', '+'),\n",
    "        'location': location_name.replace(' ', '+'),\n",
    "        'limit': yelp_search_limit\n",
    "    }\n",
    "    return yelp_request_call(yelp_api_host, yelp_search_path, api_key, url_params=url_params)"
   ]
  },
  {
   "cell_type": "code",
   "execution_count": 10,
   "metadata": {},
   "outputs": [
    {
     "name": "stdout",
     "output_type": "stream",
     "text": [
      "Querying https://api.yelp.com/v3/businesses/search ...\n",
      "200\n",
      "Querying https://api.yelp.com/v3/businesses/search ...\n",
      "200\n"
     ]
    }
   ],
   "source": [
    "# API calls for restaurants and outdoor locations\n",
    "\n",
    "yelp_pd_rest = yelp_search(yelp_api_key, search_term_rest, location_name)\n",
    "yelp_pd_outd = yelp_search(yelp_api_key, search_term_outdoors, location_name)"
   ]
  },
  {
   "cell_type": "markdown",
   "metadata": {},
   "source": [
    "#### Functions for parsing and handling API calls"
   ]
  },
  {
   "cell_type": "code",
   "execution_count": 11,
   "metadata": {},
   "outputs": [],
   "source": [
    "# running API calls to put into payload variables for alteration, do not need to run API calls constantly with this method\n",
    "# normalizes the payload into a dataframe, uses a lambda function to pull out the category id, then drops the category column\n",
    "# final result is clean data with a category_id foreign key\n",
    "\n",
    "yelp_field_filter = ['alias', 'image_url', 'is_closed', 'url', \n",
    "       'categories', 'transactions', 'price', 'phone',\n",
    "       'display_phone', 'distance', 'coordinates.latitude',\n",
    "       'coordinates.longitude', 'location.address1', 'location.address2',\n",
    "       'location.address3', 'location.city', 'location.zip_code',\n",
    "       'location.country', 'location.state', 'location.display_address']\n",
    "\n",
    "def yelp_payload_parser(api_payload, fields_to_remove):\n",
    "    \"\"\"Takes inputs from payload_categories for processing and final parsing\n",
    "    Args:\n",
    "        api_payload (dict): JSON format API call document\n",
    "        fields_to_remove (list): List with all of the fields to be removed from the JSON DataFrame\n",
    "    Returns:\n",
    "        category_list (DataFrame): Category listing of all POI captured in API call, only type listed\n",
    "        clean_payload (DataFrame): Cleaned API DataFrame with values to go into SQL DB\n",
    "    \"\"\"\n",
    "    api_filter = list(api_payload.keys())[0]\n",
    "    json_payload = pd.json_normalize(api_payload[api_filter])\n",
    "    cat_filter = list(json_payload)[7]\n",
    "    \n",
    "    category_list = pd.json_normalize(api_payload[api_filter], record_path=cat_filter)\n",
    "    \n",
    "    json_payload['category_id'] = json_payload['categories'].apply(lambda x: x[0]['alias'])\n",
    "    clean_payload = json_payload.drop(fields_to_remove, axis=1)\n",
    "    return clean_payload, category_list\n",
    "\n"
   ]
  },
  {
   "cell_type": "code",
   "execution_count": 12,
   "metadata": {},
   "outputs": [],
   "source": [
    "# function calls and data consolidation into one table\n",
    "\n",
    "yelp_rest_locs, yelp_rest_cats = yelp_payload_parser(yelp_pd_rest, yelp_field_filter)\n",
    "yelp_outd_locs, yelp_outd_cats = yelp_payload_parser(yelp_pd_outd, yelp_field_filter)\n",
    "\n",
    "yelp_cats = pd.concat([yelp_rest_cats, yelp_outd_cats], ignore_index=True).drop_duplicates()\n",
    "yelp_locations = pd.concat([yelp_rest_locs, yelp_outd_locs], ignore_index=True)"
   ]
  },
  {
   "cell_type": "code",
   "execution_count": 13,
   "metadata": {},
   "outputs": [
    {
     "data": {
      "text/html": [
       "<div>\n",
       "<style scoped>\n",
       "    .dataframe tbody tr th:only-of-type {\n",
       "        vertical-align: middle;\n",
       "    }\n",
       "\n",
       "    .dataframe tbody tr th {\n",
       "        vertical-align: top;\n",
       "    }\n",
       "\n",
       "    .dataframe thead th {\n",
       "        text-align: right;\n",
       "    }\n",
       "</style>\n",
       "<table border=\"1\" class=\"dataframe\">\n",
       "  <thead>\n",
       "    <tr style=\"text-align: right;\">\n",
       "      <th></th>\n",
       "      <th>alias</th>\n",
       "      <th>title</th>\n",
       "    </tr>\n",
       "  </thead>\n",
       "  <tbody>\n",
       "    <tr>\n",
       "      <th>0</th>\n",
       "      <td>brewpubs</td>\n",
       "      <td>Brewpubs</td>\n",
       "    </tr>\n",
       "    <tr>\n",
       "      <th>1</th>\n",
       "      <td>burgers</td>\n",
       "      <td>Burgers</td>\n",
       "    </tr>\n",
       "    <tr>\n",
       "      <th>2</th>\n",
       "      <td>pizza</td>\n",
       "      <td>Pizza</td>\n",
       "    </tr>\n",
       "    <tr>\n",
       "      <th>3</th>\n",
       "      <td>diners</td>\n",
       "      <td>Diners</td>\n",
       "    </tr>\n",
       "    <tr>\n",
       "      <th>4</th>\n",
       "      <td>steak</td>\n",
       "      <td>Steakhouses</td>\n",
       "    </tr>\n",
       "  </tbody>\n",
       "</table>\n",
       "</div>"
      ],
      "text/plain": [
       "      alias        title\n",
       "0  brewpubs     Brewpubs\n",
       "1   burgers      Burgers\n",
       "2     pizza        Pizza\n",
       "3    diners       Diners\n",
       "4     steak  Steakhouses"
      ]
     },
     "execution_count": 13,
     "metadata": {},
     "output_type": "execute_result"
    }
   ],
   "source": [
    "yelp_locations.head()\n",
    "yelp_cats.head()"
   ]
  },
  {
   "cell_type": "markdown",
   "metadata": {},
   "source": [
    "### 4. Database prepartion"
   ]
  },
  {
   "cell_type": "markdown",
   "metadata": {},
   "source": [
    "#### Libraries imported, tables to create"
   ]
  },
  {
   "cell_type": "code",
   "execution_count": 14,
   "metadata": {},
   "outputs": [],
   "source": [
    "import sqlite3\n",
    "conn = sqlite3.connect('miniproject2.db')\n",
    "c = conn.cursor()"
   ]
  },
  {
   "cell_type": "markdown",
   "metadata": {},
   "source": [
    "#### Creation of SQL Tables"
   ]
  },
  {
   "cell_type": "code",
   "execution_count": 15,
   "metadata": {},
   "outputs": [],
   "source": [
    "# To identify which columns need to be created in the SQL tables\n",
    "\n",
    "def table_creation(data_tables, table_names):\n",
    "    conn = sqlite3.connect('miniproject2.db')\n",
    "    n = 0\n",
    "    c = conn.cursor()\n",
    "    for table in data_tables:\n",
    "        new_columns = set()\n",
    "        for sql_column in table:\n",
    "            if 'stats.' in sql_column:\n",
    "                column = sql_column.replace('stats.','')\n",
    "                new_columns.add(column)\n",
    "            elif 'icon.' in sql_column:\n",
    "                column = sql_column.replace('icon.','')\n",
    "                new_columns.add(column)\n",
    "            else:\n",
    "                column = sql_column\n",
    "                new_columns.add(column)\n",
    "        column_names = tuple(new_columns)\n",
    "        c.execute(f'CREATE TABLE IF NOT EXISTS {table_names[n]} {column_names}')\n",
    "        conn.commit\n",
    "        # table.to_sql(f\"'{table_names[n]}'\", conn, if_exists='replace', index = False)\n",
    "        n += 1"
   ]
  },
  {
   "cell_type": "markdown",
   "metadata": {},
   "source": [
    "#### Loading data into tables"
   ]
  },
  {
   "cell_type": "code",
   "execution_count": 16,
   "metadata": {},
   "outputs": [
    {
     "data": {
      "text/plain": [
       "61"
      ]
     },
     "execution_count": 16,
     "metadata": {},
     "output_type": "execute_result"
    }
   ],
   "source": [
    "tables_to_make = [fsq_locations, fsq_cats, yelp_locations, yelp_cats]\n",
    "table_name_list = ['fsq_loc', 'fsq_cats', 'yelp_loc', 'yelp_cats']\n",
    "\n",
    "table_creation(tables_to_make, table_name_list)\n",
    "\n",
    "yelp_cats.to_sql('yelp_cats', conn, if_exists='replace', index = False)\n",
    "fsq_cats.to_sql('fsq_cats', conn, if_exists='replace', index = False)\n",
    "\n",
    "yelp_locations.to_sql('yelp_loc', conn, if_exists='replace', index = False)\n",
    "fsq_locations.to_sql('fsq_loc', conn, if_exists='replace', index = False)"
   ]
  },
  {
   "cell_type": "code",
   "execution_count": 19,
   "metadata": {},
   "outputs": [
    {
     "ename": "SyntaxError",
     "evalue": "invalid syntax (812656140.py, line 1)",
     "output_type": "error",
     "traceback": [
      "\u001b[1;36m  Cell \u001b[1;32mIn [19], line 1\u001b[1;36m\u001b[0m\n\u001b[1;33m    sqlite3 miniproject2.db.schema > database_schema.txt\u001b[0m\n\u001b[1;37m            ^\u001b[0m\n\u001b[1;31mSyntaxError\u001b[0m\u001b[1;31m:\u001b[0m invalid syntax\n"
     ]
    }
   ],
   "source": [
    "sqlite3 miniproject2.db.schema > database_schema.txt"
   ]
  }
 ],
 "metadata": {
  "kernelspec": {
   "display_name": "Python 3.9.13 64-bit",
   "language": "python",
   "name": "python3"
  },
  "language_info": {
   "codemirror_mode": {
    "name": "ipython",
    "version": 3
   },
   "file_extension": ".py",
   "mimetype": "text/x-python",
   "name": "python",
   "nbconvert_exporter": "python",
   "pygments_lexer": "ipython3",
   "version": "3.9.13"
  },
  "orig_nbformat": 4,
  "vscode": {
   "interpreter": {
    "hash": "11938c6bc6919ae2720b4d5011047913343b08a43b18698fd82dedb0d4417594"
   }
  }
 },
 "nbformat": 4,
 "nbformat_minor": 2
}
